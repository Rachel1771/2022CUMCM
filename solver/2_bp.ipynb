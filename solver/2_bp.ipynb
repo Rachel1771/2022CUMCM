{
  "cells": [
    {
      "cell_type": "code",
      "execution_count": 182,
      "metadata": {},
      "outputs": [],
      "source": [
        "import numpy as np\n",
        "import pandas as pd\n",
        "import matplotlib.pyplot as plt\n",
        "\n",
        "from lightgbm import LGBMClassifier\n",
        "\n",
        "from sklearn.neural_network import MLPClassifier\n",
        "from mlxtend.classifier import StackingClassifier\n",
        "from mlxtend.classifier import StackingCVClassifier\n",
        "\n",
        "from sklearn.svm import SVC\n",
        "from sklearn import metrics\n",
        "\n",
        "from sklearn.ensemble import VotingClassifier\n",
        "from sklearn.ensemble import AdaBoostClassifier as ada\n",
        "from sklearn.ensemble import GradientBoostingClassifier\n",
        "from sklearn.ensemble import RandomForestClassifier as RF\n",
        "\n",
        "from sklearn.model_selection import GridSearchCV\n",
        "from sklearn.model_selection import cross_val_score\n",
        "from sklearn.model_selection import train_test_split\n",
        "\n",
        "from sklearn.preprocessing import StandardScaler\n",
        "from sklearn.linear_model import LogisticRegression\n",
        "\n",
        "from sklearn.metrics import roc_auc_score, precision_score, recall_score\n"
      ]
    },
    {
      "cell_type": "code",
      "execution_count": 183,
      "metadata": {},
      "outputs": [
        {
          "data": {
            "text/html": [
              "<div>\n",
              "<style scoped>\n",
              "    .dataframe tbody tr th:only-of-type {\n",
              "        vertical-align: middle;\n",
              "    }\n",
              "\n",
              "    .dataframe tbody tr th {\n",
              "        vertical-align: top;\n",
              "    }\n",
              "\n",
              "    .dataframe thead th {\n",
              "        text-align: right;\n",
              "    }\n",
              "</style>\n",
              "<table border=\"1\" class=\"dataframe\">\n",
              "  <thead>\n",
              "    <tr style=\"text-align: right;\">\n",
              "      <th></th>\n",
              "      <th>Unnamed: 0</th>\n",
              "      <th>二氧化硅(SiO2)</th>\n",
              "      <th>氧化钠(Na2O)</th>\n",
              "      <th>氧化钾(K2O)</th>\n",
              "      <th>氧化钙(CaO)</th>\n",
              "      <th>氧化镁(MgO)</th>\n",
              "      <th>氧化铝(Al2O3)</th>\n",
              "      <th>氧化铁(Fe2O3)</th>\n",
              "      <th>氧化铜(CuO)</th>\n",
              "      <th>氧化铅(PbO)</th>\n",
              "      <th>氧化钡(BaO)</th>\n",
              "      <th>五氧化二磷(P2O5)</th>\n",
              "      <th>氧化锶(SrO)</th>\n",
              "      <th>氧化锡(SnO2)</th>\n",
              "      <th>二氧化硫(SO2)</th>\n",
              "      <th>量化风化</th>\n",
              "      <th>聚类类别</th>\n",
              "    </tr>\n",
              "  </thead>\n",
              "  <tbody>\n",
              "    <tr>\n",
              "      <th>0</th>\n",
              "      <td>0</td>\n",
              "      <td>79.46</td>\n",
              "      <td>0.205952</td>\n",
              "      <td>9.42</td>\n",
              "      <td>0.1367</td>\n",
              "      <td>1.53</td>\n",
              "      <td>3.05</td>\n",
              "      <td>0.175584</td>\n",
              "      <td>0.091097</td>\n",
              "      <td>0.908840</td>\n",
              "      <td>0.374997</td>\n",
              "      <td>1.36</td>\n",
              "      <td>0.070000</td>\n",
              "      <td>2.360000</td>\n",
              "      <td>0.106830</td>\n",
              "      <td>1</td>\n",
              "      <td>0</td>\n",
              "    </tr>\n",
              "    <tr>\n",
              "      <th>1</th>\n",
              "      <td>1</td>\n",
              "      <td>69.33</td>\n",
              "      <td>0.693093</td>\n",
              "      <td>9.99</td>\n",
              "      <td>6.3200</td>\n",
              "      <td>0.87</td>\n",
              "      <td>3.93</td>\n",
              "      <td>1.740000</td>\n",
              "      <td>3.870000</td>\n",
              "      <td>0.325067</td>\n",
              "      <td>0.829530</td>\n",
              "      <td>1.17</td>\n",
              "      <td>0.018753</td>\n",
              "      <td>0.133558</td>\n",
              "      <td>0.390000</td>\n",
              "      <td>1</td>\n",
              "      <td>1</td>\n",
              "    </tr>\n",
              "    <tr>\n",
              "      <th>2</th>\n",
              "      <td>2</td>\n",
              "      <td>61.71</td>\n",
              "      <td>0.862734</td>\n",
              "      <td>12.37</td>\n",
              "      <td>5.8700</td>\n",
              "      <td>1.11</td>\n",
              "      <td>5.50</td>\n",
              "      <td>2.160000</td>\n",
              "      <td>5.090000</td>\n",
              "      <td>1.410000</td>\n",
              "      <td>2.860000</td>\n",
              "      <td>0.70</td>\n",
              "      <td>0.100000</td>\n",
              "      <td>0.161183</td>\n",
              "      <td>0.096083</td>\n",
              "      <td>1</td>\n",
              "      <td>1</td>\n",
              "    </tr>\n",
              "    <tr>\n",
              "      <th>3</th>\n",
              "      <td>3</td>\n",
              "      <td>65.88</td>\n",
              "      <td>0.996509</td>\n",
              "      <td>9.67</td>\n",
              "      <td>7.1200</td>\n",
              "      <td>1.56</td>\n",
              "      <td>6.44</td>\n",
              "      <td>2.060000</td>\n",
              "      <td>2.180000</td>\n",
              "      <td>0.198087</td>\n",
              "      <td>0.393507</td>\n",
              "      <td>0.79</td>\n",
              "      <td>0.021824</td>\n",
              "      <td>0.390073</td>\n",
              "      <td>0.360000</td>\n",
              "      <td>1</td>\n",
              "      <td>1</td>\n",
              "    </tr>\n",
              "    <tr>\n",
              "      <th>4</th>\n",
              "      <td>4</td>\n",
              "      <td>61.58</td>\n",
              "      <td>0.851628</td>\n",
              "      <td>10.95</td>\n",
              "      <td>7.3500</td>\n",
              "      <td>1.77</td>\n",
              "      <td>7.50</td>\n",
              "      <td>2.620000</td>\n",
              "      <td>3.270000</td>\n",
              "      <td>0.213704</td>\n",
              "      <td>0.593154</td>\n",
              "      <td>0.94</td>\n",
              "      <td>0.060000</td>\n",
              "      <td>0.341514</td>\n",
              "      <td>0.470000</td>\n",
              "      <td>1</td>\n",
              "      <td>1</td>\n",
              "    </tr>\n",
              "  </tbody>\n",
              "</table>\n",
              "</div>"
            ],
            "text/plain": [
              "   Unnamed: 0  二氧化硅(SiO2)  氧化钠(Na2O)  氧化钾(K2O)  氧化钙(CaO)  氧化镁(MgO)  \\\n",
              "0           0       79.46   0.205952      9.42    0.1367      1.53   \n",
              "1           1       69.33   0.693093      9.99    6.3200      0.87   \n",
              "2           2       61.71   0.862734     12.37    5.8700      1.11   \n",
              "3           3       65.88   0.996509      9.67    7.1200      1.56   \n",
              "4           4       61.58   0.851628     10.95    7.3500      1.77   \n",
              "\n",
              "   氧化铝(Al2O3)  氧化铁(Fe2O3)  氧化铜(CuO)  氧化铅(PbO)  氧化钡(BaO)  五氧化二磷(P2O5)  \\\n",
              "0        3.05    0.175584  0.091097  0.908840  0.374997         1.36   \n",
              "1        3.93    1.740000  3.870000  0.325067  0.829530         1.17   \n",
              "2        5.50    2.160000  5.090000  1.410000  2.860000         0.70   \n",
              "3        6.44    2.060000  2.180000  0.198087  0.393507         0.79   \n",
              "4        7.50    2.620000  3.270000  0.213704  0.593154         0.94   \n",
              "\n",
              "   氧化锶(SrO)  氧化锡(SnO2)  二氧化硫(SO2)  量化风化  聚类类别  \n",
              "0  0.070000   2.360000   0.106830     1     0  \n",
              "1  0.018753   0.133558   0.390000     1     1  \n",
              "2  0.100000   0.161183   0.096083     1     1  \n",
              "3  0.021824   0.390073   0.360000     1     1  \n",
              "4  0.060000   0.341514   0.470000     1     1  "
            ]
          },
          "execution_count": 183,
          "metadata": {},
          "output_type": "execute_result"
        }
      ],
      "source": [
        "# data = pd.read_excel('excel/result/2/k-means_铅钡.xlsx')\n",
        "data = pd.read_excel('excel/result/2/k-means_高钾_oversample.xlsx')\n",
        "data.head()"
      ]
    },
    {
      "cell_type": "code",
      "execution_count": 184,
      "metadata": {},
      "outputs": [
        {
          "name": "stdout",
          "output_type": "stream",
          "text": [
            "(28, 15)\n",
            "(28,)\n"
          ]
        }
      ],
      "source": [
        "x = data.loc[:,'二氧化硅(SiO2)':'量化风化']\n",
        "y = data.loc[:,'聚类类别']\n",
        "print(x.shape)\n",
        "print(y.shape)"
      ]
    },
    {
      "cell_type": "code",
      "execution_count": 185,
      "metadata": {},
      "outputs": [
        {
          "name": "stdout",
          "output_type": "stream",
          "text": [
            "(28, 15)\n",
            "(22, 15)\n",
            "(6, 15)\n"
          ]
        }
      ],
      "source": [
        "x_train, x_test, y_train, y_test = train_test_split(x,\n",
        "                                                    y,\n",
        "                                                    test_size=0.2,\n",
        "                                                    train_size=0.8,\n",
        "                                                    random_state=20,\n",
        "                                                    shuffle=True)\n",
        "\n",
        "\n",
        "tranfer = StandardScaler()\n",
        "x = tranfer.fit_transform(x)\n",
        "x_train = tranfer.transform(x_train)\n",
        "x_test = tranfer.transform(x_test)\n",
        "print(x.shape)\n",
        "print(x_train.shape)\n",
        "print(x_test.shape)"
      ]
    },
    {
      "cell_type": "code",
      "execution_count": 186,
      "metadata": {},
      "outputs": [
        {
          "name": "stdout",
          "output_type": "stream",
          "text": [
            "y_predict [2 1 1 2 3 2]\n"
          ]
        },
        {
          "data": {
            "text/html": [
              "<div>\n",
              "<style scoped>\n",
              "    .dataframe tbody tr th:only-of-type {\n",
              "        vertical-align: middle;\n",
              "    }\n",
              "\n",
              "    .dataframe tbody tr th {\n",
              "        vertical-align: top;\n",
              "    }\n",
              "\n",
              "    .dataframe thead th {\n",
              "        text-align: right;\n",
              "    }\n",
              "</style>\n",
              "<table border=\"1\" class=\"dataframe\">\n",
              "  <thead>\n",
              "    <tr style=\"text-align: right;\">\n",
              "      <th></th>\n",
              "      <th>total_Accuracy</th>\n",
              "      <th>train_Accuracy</th>\n",
              "      <th>test_Accuracy</th>\n",
              "      <th>Precision</th>\n",
              "      <th>Recall</th>\n",
              "      <th>f1</th>\n",
              "    </tr>\n",
              "  </thead>\n",
              "  <tbody>\n",
              "    <tr>\n",
              "      <th>0</th>\n",
              "      <td>1.0</td>\n",
              "      <td>1.0</td>\n",
              "      <td>1.0</td>\n",
              "      <td>1.0</td>\n",
              "      <td>1.0</td>\n",
              "      <td>1.0</td>\n",
              "    </tr>\n",
              "  </tbody>\n",
              "</table>\n",
              "</div>"
            ],
            "text/plain": [
              "   total_Accuracy  train_Accuracy  test_Accuracy  Precision  Recall   f1\n",
              "0             1.0             1.0            1.0        1.0     1.0  1.0"
            ]
          },
          "execution_count": 186,
          "metadata": {},
          "output_type": "execute_result"
        }
      ],
      "source": [
        "clf = MLPClassifier(\n",
        "    activation='relu',\n",
        "    random_state=10,\n",
        "    solver='adam',\n",
        "    learning_rate_init=0.01,\n",
        "    alpha=0.1,\n",
        "    max_iter=400,\n",
        "    hidden_layer_sizes=(10, ),\n",
        "    shuffle=True,\n",
        ")  # BP神经网络回归模型\n",
        "\n",
        "clf.fit(x_train, y_train)\n",
        "y_predict = clf.predict(x_test)\n",
        "print('y_predict', y_predict)\n",
        "tem_1 = [\n",
        "    metrics.accuracy_score(y, clf.predict(x)),\n",
        "    metrics.accuracy_score(y_train, clf.predict(x_train)),\n",
        "    metrics.accuracy_score(y_test, y_predict),\n",
        "    precision_score(y_test, y_predict, average='micro'),\n",
        "    recall_score(y_test, y_predict, average='micro'),\n",
        "    metrics.f1_score(y_test, y_predict, average='micro'),\n",
        "]\n",
        "data2 = pd.DataFrame(data=tem_1,\n",
        "                     index=[\n",
        "                         'total_Accuracy', 'train_Accuracy', 'test_Accuracy',\n",
        "                         'Precision', 'Recall', 'f1'\n",
        "                     ]).T\n",
        "data2\n",
        "# L1=np.abs(y_test-y_predict).mean()  # 模型评价\n",
        "# print(L1)\n",
        "# print(precision_score(y_test, y_predict))"
      ]
    },
    {
      "cell_type": "code",
      "execution_count": 187,
      "metadata": {},
      "outputs": [
        {
          "name": "stdout",
          "output_type": "stream",
          "text": [
            "[[-1.2424754017766955, 1.7287640644100062], [-0.7445347265395857, 1.7287640644100062], [-1.8311512078391092, 1.7287640644100062], [-0.9133507489665691, 1.7287640644100062], [-1.6042241772845534, 1.7287640644100062], [-1.391332115762394, 1.7287640644100062], [-0.8238227499066658, 1.7287640644100062], [-1.1373215347912826, 1.7287640644100062], [-1.163869099796232, 1.7287640644100062], [-1.0030703557862846, 1.7287640644100062], [-1.0647258945569174, 1.7287640644100062], [-1.2905703526109262, 1.7287640644100062], [-0.7138543192225496, 1.7287640644100062], [-0.8214923620856109, 1.7287640644100062], [-0.5222329678670932, 1.7287640644100062]]\n",
            "15\n"
          ]
        }
      ],
      "source": [
        "from SALib.sample import saltelli\n",
        "from SALib.analyze import sobol\n",
        "from SALib.test_functions import Ishigami\n",
        "\n",
        "bounds_list = []\n",
        "\n",
        "for i in range(x.shape[1]):\n",
        "    a = [x[:, i].min(), x[:, 0].max()]\n",
        "    bounds_list.append(a)\n",
        "print(bounds_list)\n",
        "print(len(bounds_list))"
      ]
    },
    {
      "cell_type": "code",
      "execution_count": 188,
      "metadata": {},
      "outputs": [
        {
          "name": "stderr",
          "output_type": "stream",
          "text": [
            "c:\\Miniconda\\lib\\site-packages\\SALib\\sample\\saltelli.py:94: UserWarning: \n",
            "        Convergence properties of the Sobol' sequence is only valid if\n",
            "        `N` (1000) is equal to `2^n`.\n",
            "        \n",
            "  warnings.warn(msg)\n"
          ]
        },
        {
          "data": {
            "text/plain": [
              "(32000, 15)"
            ]
          },
          "execution_count": 188,
          "metadata": {},
          "output_type": "execute_result"
        }
      ],
      "source": [
        "problem = {\n",
        "    'num_vars':\n",
        "    x.shape[1],\n",
        "    'names': [\n",
        "        'x1', 'x2', 'x3', 'x4', 'x5', 'x6', 'x7', 'x8', 'x9', 'x10', 'x11',\n",
        "        'x12', 'x13', 'x14', 'x15'\n",
        "    ],\n",
        "    'bounds':\n",
        "    bounds_list\n",
        "}\n",
        "param_values = saltelli.sample(problem, 1000)\n",
        "\n",
        "param_values.shape"
      ]
    },
    {
      "cell_type": "code",
      "execution_count": 189,
      "metadata": {},
      "outputs": [
        {
          "data": {
            "text/plain": [
              "array([-0.70461373,  1.20569928,  5.77630602, ...,  2.46699962,\n",
              "        2.46699962,  2.46699962])"
            ]
          },
          "execution_count": 189,
          "metadata": {},
          "output_type": "execute_result"
        }
      ],
      "source": [
        "Y = np.zeros([param_values.shape[0]])\n",
        "for i in range(param_values.shape[0]):\n",
        "    a=clf.predict(param_values[i].reshape(1,-1))\n",
        "    Y[i] = a\n",
        "Y = Ishigami.evaluate(param_values)\n",
        "Y"
      ]
    },
    {
      "cell_type": "code",
      "execution_count": 190,
      "metadata": {},
      "outputs": [
        {
          "name": "stdout",
          "output_type": "stream",
          "text": [
            "           ST   ST_conf\n",
            "x1   0.097201  0.008616\n",
            "x2   0.894909  0.062714\n",
            "x3   0.005087  0.000645\n",
            "x4   0.000000  0.000000\n",
            "x5   0.000000  0.000000\n",
            "x6   0.000000  0.000000\n",
            "x7   0.000000  0.000000\n",
            "x8   0.000000  0.000000\n",
            "x9   0.000000  0.000000\n",
            "x10  0.000000  0.000000\n",
            "x11  0.000000  0.000000\n",
            "x12  0.000000  0.000000\n",
            "x13  0.000000  0.000000\n",
            "x14  0.000000  0.000000\n",
            "x15  0.000000  0.000000\n",
            "           S1   S1_conf\n",
            "x1   0.095000  0.024317\n",
            "x2   0.895515  0.067953\n",
            "x3   0.000778  0.005400\n",
            "x4   0.000000  0.000000\n",
            "x5   0.000000  0.000000\n",
            "x6   0.000000  0.000000\n",
            "x7   0.000000  0.000000\n",
            "x8   0.000000  0.000000\n",
            "x9   0.000000  0.000000\n",
            "x10  0.000000  0.000000\n",
            "x11  0.000000  0.000000\n",
            "x12  0.000000  0.000000\n",
            "x13  0.000000  0.000000\n",
            "x14  0.000000  0.000000\n",
            "x15  0.000000  0.000000\n",
            "                  S2   S2_conf\n",
            "(x1, x2)   -0.006480  0.048785\n",
            "(x1, x3)    0.001074  0.035494\n",
            "(x1, x4)   -0.003183  0.035416\n",
            "(x1, x5)   -0.003183  0.035416\n",
            "(x1, x6)   -0.003183  0.035416\n",
            "...              ...       ...\n",
            "(x12, x14)  0.000000  0.000000\n",
            "(x12, x15)  0.000000  0.000000\n",
            "(x13, x14)  0.000000  0.000000\n",
            "(x13, x15)  0.000000  0.000000\n",
            "(x14, x15)  0.000000  0.000000\n",
            "\n",
            "[105 rows x 2 columns]\n"
          ]
        },
        {
          "data": {
            "text/plain": [
              "{'S1': array([9.49998946e-02, 8.95514661e-01, 7.78008465e-04, 0.00000000e+00,\n",
              "        0.00000000e+00, 0.00000000e+00, 0.00000000e+00, 0.00000000e+00,\n",
              "        0.00000000e+00, 0.00000000e+00, 0.00000000e+00, 0.00000000e+00,\n",
              "        0.00000000e+00, 0.00000000e+00, 0.00000000e+00]),\n",
              " 'S1_conf': array([0.02431669, 0.06795316, 0.00540015, 0.        , 0.        ,\n",
              "        0.        , 0.        , 0.        , 0.        , 0.        ,\n",
              "        0.        , 0.        , 0.        , 0.        , 0.        ]),\n",
              " 'ST': array([0.09720064, 0.89490881, 0.00508688, 0.        , 0.        ,\n",
              "        0.        , 0.        , 0.        , 0.        , 0.        ,\n",
              "        0.        , 0.        , 0.        , 0.        , 0.        ]),\n",
              " 'ST_conf': array([0.00861631, 0.06271441, 0.0006454 , 0.        , 0.        ,\n",
              "        0.        , 0.        , 0.        , 0.        , 0.        ,\n",
              "        0.        , 0.        , 0.        , 0.        , 0.        ]),\n",
              " 'S2': array([[        nan, -0.00648023,  0.00107371, -0.00318331, -0.00318331,\n",
              "         -0.00318331, -0.00318331, -0.00318331, -0.00318331, -0.00318331,\n",
              "         -0.00318331, -0.00318331, -0.00318331, -0.00318331, -0.00318331],\n",
              "        [        nan,         nan,  0.00208522,  0.00226817,  0.00226817,\n",
              "          0.00226817,  0.00226817,  0.00226817,  0.00226817,  0.00226817,\n",
              "          0.00226817,  0.00226817,  0.00226817,  0.00226817,  0.00226817],\n",
              "        [        nan,         nan,         nan, -0.00210485, -0.00210485,\n",
              "         -0.00210485, -0.00210485, -0.00210485, -0.00210485, -0.00210485,\n",
              "         -0.00210485, -0.00210485, -0.00210485, -0.00210485, -0.00210485],\n",
              "        [        nan,         nan,         nan,         nan,  0.        ,\n",
              "          0.        ,  0.        ,  0.        ,  0.        ,  0.        ,\n",
              "          0.        ,  0.        ,  0.        ,  0.        ,  0.        ],\n",
              "        [        nan,         nan,         nan,         nan,         nan,\n",
              "          0.        ,  0.        ,  0.        ,  0.        ,  0.        ,\n",
              "          0.        ,  0.        ,  0.        ,  0.        ,  0.        ],\n",
              "        [        nan,         nan,         nan,         nan,         nan,\n",
              "                 nan,  0.        ,  0.        ,  0.        ,  0.        ,\n",
              "          0.        ,  0.        ,  0.        ,  0.        ,  0.        ],\n",
              "        [        nan,         nan,         nan,         nan,         nan,\n",
              "                 nan,         nan,  0.        ,  0.        ,  0.        ,\n",
              "          0.        ,  0.        ,  0.        ,  0.        ,  0.        ],\n",
              "        [        nan,         nan,         nan,         nan,         nan,\n",
              "                 nan,         nan,         nan,  0.        ,  0.        ,\n",
              "          0.        ,  0.        ,  0.        ,  0.        ,  0.        ],\n",
              "        [        nan,         nan,         nan,         nan,         nan,\n",
              "                 nan,         nan,         nan,         nan,  0.        ,\n",
              "          0.        ,  0.        ,  0.        ,  0.        ,  0.        ],\n",
              "        [        nan,         nan,         nan,         nan,         nan,\n",
              "                 nan,         nan,         nan,         nan,         nan,\n",
              "          0.        ,  0.        ,  0.        ,  0.        ,  0.        ],\n",
              "        [        nan,         nan,         nan,         nan,         nan,\n",
              "                 nan,         nan,         nan,         nan,         nan,\n",
              "                 nan,  0.        ,  0.        ,  0.        ,  0.        ],\n",
              "        [        nan,         nan,         nan,         nan,         nan,\n",
              "                 nan,         nan,         nan,         nan,         nan,\n",
              "                 nan,         nan,  0.        ,  0.        ,  0.        ],\n",
              "        [        nan,         nan,         nan,         nan,         nan,\n",
              "                 nan,         nan,         nan,         nan,         nan,\n",
              "                 nan,         nan,         nan,  0.        ,  0.        ],\n",
              "        [        nan,         nan,         nan,         nan,         nan,\n",
              "                 nan,         nan,         nan,         nan,         nan,\n",
              "                 nan,         nan,         nan,         nan,  0.        ],\n",
              "        [        nan,         nan,         nan,         nan,         nan,\n",
              "                 nan,         nan,         nan,         nan,         nan,\n",
              "                 nan,         nan,         nan,         nan,         nan]]),\n",
              " 'S2_conf': array([[       nan, 0.04878532, 0.03549374, 0.03541603, 0.03541603,\n",
              "         0.03541603, 0.03541603, 0.03541603, 0.03541603, 0.03541603,\n",
              "         0.03541603, 0.03541603, 0.03541603, 0.03541603, 0.03541603],\n",
              "        [       nan,        nan, 0.06432005, 0.06422808, 0.06422808,\n",
              "         0.06422808, 0.06422808, 0.06422808, 0.06422808, 0.06422808,\n",
              "         0.06422808, 0.06422808, 0.06422808, 0.06422808, 0.06422808],\n",
              "        [       nan,        nan,        nan, 0.00849935, 0.00849935,\n",
              "         0.00849935, 0.00849935, 0.00849935, 0.00849935, 0.00849935,\n",
              "         0.00849935, 0.00849935, 0.00849935, 0.00849935, 0.00849935],\n",
              "        [       nan,        nan,        nan,        nan, 0.        ,\n",
              "         0.        , 0.        , 0.        , 0.        , 0.        ,\n",
              "         0.        , 0.        , 0.        , 0.        , 0.        ],\n",
              "        [       nan,        nan,        nan,        nan,        nan,\n",
              "         0.        , 0.        , 0.        , 0.        , 0.        ,\n",
              "         0.        , 0.        , 0.        , 0.        , 0.        ],\n",
              "        [       nan,        nan,        nan,        nan,        nan,\n",
              "                nan, 0.        , 0.        , 0.        , 0.        ,\n",
              "         0.        , 0.        , 0.        , 0.        , 0.        ],\n",
              "        [       nan,        nan,        nan,        nan,        nan,\n",
              "                nan,        nan, 0.        , 0.        , 0.        ,\n",
              "         0.        , 0.        , 0.        , 0.        , 0.        ],\n",
              "        [       nan,        nan,        nan,        nan,        nan,\n",
              "                nan,        nan,        nan, 0.        , 0.        ,\n",
              "         0.        , 0.        , 0.        , 0.        , 0.        ],\n",
              "        [       nan,        nan,        nan,        nan,        nan,\n",
              "                nan,        nan,        nan,        nan, 0.        ,\n",
              "         0.        , 0.        , 0.        , 0.        , 0.        ],\n",
              "        [       nan,        nan,        nan,        nan,        nan,\n",
              "                nan,        nan,        nan,        nan,        nan,\n",
              "         0.        , 0.        , 0.        , 0.        , 0.        ],\n",
              "        [       nan,        nan,        nan,        nan,        nan,\n",
              "                nan,        nan,        nan,        nan,        nan,\n",
              "                nan, 0.        , 0.        , 0.        , 0.        ],\n",
              "        [       nan,        nan,        nan,        nan,        nan,\n",
              "                nan,        nan,        nan,        nan,        nan,\n",
              "                nan,        nan, 0.        , 0.        , 0.        ],\n",
              "        [       nan,        nan,        nan,        nan,        nan,\n",
              "                nan,        nan,        nan,        nan,        nan,\n",
              "                nan,        nan,        nan, 0.        , 0.        ],\n",
              "        [       nan,        nan,        nan,        nan,        nan,\n",
              "                nan,        nan,        nan,        nan,        nan,\n",
              "                nan,        nan,        nan,        nan, 0.        ],\n",
              "        [       nan,        nan,        nan,        nan,        nan,\n",
              "                nan,        nan,        nan,        nan,        nan,\n",
              "                nan,        nan,        nan,        nan,        nan]])}"
            ]
          },
          "execution_count": 190,
          "metadata": {},
          "output_type": "execute_result"
        }
      ],
      "source": [
        "Si = sobol.analyze(problem, Y, print_to_console=True)\n",
        "Si"
      ]
    },
    {
      "cell_type": "markdown",
      "metadata": {},
      "source": []
    },
    {
      "cell_type": "code",
      "execution_count": 191,
      "metadata": {},
      "outputs": [
        {
          "data": {
            "text/html": [
              "<div>\n",
              "<style scoped>\n",
              "    .dataframe tbody tr th:only-of-type {\n",
              "        vertical-align: middle;\n",
              "    }\n",
              "\n",
              "    .dataframe tbody tr th {\n",
              "        vertical-align: top;\n",
              "    }\n",
              "\n",
              "    .dataframe thead th {\n",
              "        text-align: right;\n",
              "    }\n",
              "</style>\n",
              "<table border=\"1\" class=\"dataframe\">\n",
              "  <thead>\n",
              "    <tr style=\"text-align: right;\">\n",
              "      <th></th>\n",
              "      <th>S1</th>\n",
              "      <th>S1_conf</th>\n",
              "      <th>ST</th>\n",
              "      <th>ST_conf</th>\n",
              "    </tr>\n",
              "  </thead>\n",
              "  <tbody>\n",
              "    <tr>\n",
              "      <th>0</th>\n",
              "      <td>0.095000</td>\n",
              "      <td>0.024317</td>\n",
              "      <td>0.097201</td>\n",
              "      <td>0.008616</td>\n",
              "    </tr>\n",
              "    <tr>\n",
              "      <th>1</th>\n",
              "      <td>0.895515</td>\n",
              "      <td>0.067953</td>\n",
              "      <td>0.894909</td>\n",
              "      <td>0.062714</td>\n",
              "    </tr>\n",
              "    <tr>\n",
              "      <th>2</th>\n",
              "      <td>0.000778</td>\n",
              "      <td>0.005400</td>\n",
              "      <td>0.005087</td>\n",
              "      <td>0.000645</td>\n",
              "    </tr>\n",
              "    <tr>\n",
              "      <th>3</th>\n",
              "      <td>0.000000</td>\n",
              "      <td>0.000000</td>\n",
              "      <td>0.000000</td>\n",
              "      <td>0.000000</td>\n",
              "    </tr>\n",
              "    <tr>\n",
              "      <th>4</th>\n",
              "      <td>0.000000</td>\n",
              "      <td>0.000000</td>\n",
              "      <td>0.000000</td>\n",
              "      <td>0.000000</td>\n",
              "    </tr>\n",
              "  </tbody>\n",
              "</table>\n",
              "</div>"
            ],
            "text/plain": [
              "         S1   S1_conf        ST   ST_conf\n",
              "0  0.095000  0.024317  0.097201  0.008616\n",
              "1  0.895515  0.067953  0.894909  0.062714\n",
              "2  0.000778  0.005400  0.005087  0.000645\n",
              "3  0.000000  0.000000  0.000000  0.000000\n",
              "4  0.000000  0.000000  0.000000  0.000000"
            ]
          },
          "execution_count": 191,
          "metadata": {},
          "output_type": "execute_result"
        }
      ],
      "source": [
        "Si_data = {\n",
        "    'S1': Si['S1'],\n",
        "    'S1_conf': Si['S1_conf'],\n",
        "    'ST': Si['ST'],\n",
        "    'ST_conf': Si['ST_conf'],\n",
        "}\n",
        "data_Si =pd.DataFrame(Si_data)\n",
        "data_Si.to_excel('./excel/result/2/analysis.xlsx')\n",
        "data_Si.head()"
      ]
    },
    {
      "cell_type": "code",
      "execution_count": 192,
      "metadata": {},
      "outputs": [
        {
          "name": "stdout",
          "output_type": "stream",
          "text": [
            "x1-x2: -0.006480232647261386\n",
            "x1-x3: 0.0010737091488327733\n",
            "x2-x3: 0.0020852247605257102\n"
          ]
        }
      ],
      "source": [
        "print(\"x1-x2:\", Si['S2'][0, 1])\n",
        "print(\"x1-x3:\", Si['S2'][0, 2])\n",
        "print(\"x2-x3:\", Si['S2'][1, 2])"
      ]
    },
    {
      "cell_type": "code",
      "execution_count": 193,
      "metadata": {},
      "outputs": [
        {
          "data": {
            "image/png": "[encoded data removed]",
            "text/plain": [
              "<Figure size 720x432 with 1 Axes>"
            ]
          },
          "metadata": {
            "needs_background": "light"
          },
          "output_type": "display_data"
        }
      ],
      "source": [
        "import matplotlib.pyplot as plt\n",
        "\n",
        "plt.rcParams[\"font.sans-serif\"] = [\"SimHei\"]  #设置字体\n",
        "plt.rcParams[\"axes.unicode_minus\"] = False  #该语句解决图像中的“-”负号的乱码问题\n",
        "\n",
        "df_sensitivity = pd.DataFrame({\n",
        "    \"Parameter\":\n",
        "    data.loc[:, '二氧化硅(SiO2)':'量化风化'].columns,\n",
        "    \"First_order\":\n",
        "    Si[\"S1\"],\n",
        "    \"Total_order\":\n",
        "    Si[\"ST\"]\n",
        "}).set_index(\"Parameter\")\n",
        "fig, axes = plt.subplots(figsize=(10, 6))\n",
        "df_sensitivity.plot(kind=\"bar\", ax=axes)\n",
        "plt.title('S1与ST在各成分对比')\n",
        "# plt.figure(figsize=(30,30))\n",
        "plt.savefig('./excel/result/2/S1.png')\n"
      ]
    },
    {
      "cell_type": "code",
      "execution_count": 194,
      "metadata": {},
      "outputs": [
        {
          "data": {
            "image/png": "[encoded data removed]",
            "text/plain": [
              "<Figure size 432x288 with 2 Axes>"
            ]
          },
          "metadata": {
            "needs_background": "light"
          },
          "output_type": "display_data"
        }
      ],
      "source": [
        "from matplotlib import pyplot as plt\n",
        "\n",
        "X=Si['S2']\n",
        "plt.imshow(X)\n",
        "plt.colorbar()\n",
        "plt.title('S2')\n",
        "plt.savefig('./excel/result/2/S2_heatmap.png')\n",
        "plt.show()"
      ]
    },
    {
      "cell_type": "code",
      "execution_count": 195,
      "metadata": {},
      "outputs": [
        {
          "data": {
            "image/png": "[encoded data removed]",
            "text/plain": [
              "<Figure size 432x288 with 2 Axes>"
            ]
          },
          "metadata": {
            "needs_background": "light"
          },
          "output_type": "display_data"
        }
      ],
      "source": [
        "X = Si['S2_conf']\n",
        "plt.imshow(X)\n",
        "plt.colorbar()\n",
        "plt.title('S2_conf')\n",
        "plt.savefig('./excel/result/2/S2_confg_heatmap.png')\n",
        "plt.show()"
      ]
    },
    {
      "cell_type": "code",
      "execution_count": 196,
      "metadata": {},
      "outputs": [
        {
          "data": {
            "text/plain": [
              "array([<AxesSubplot:>, <AxesSubplot:>, <AxesSubplot:>], dtype=object)"
            ]
          },
          "execution_count": 196,
          "metadata": {},
          "output_type": "execute_result"
        },
        {
          "data": {
            "image/png": "[encoded data removed]",
            "text/plain": [
              "<Figure size 432x288 with 3 Axes>"
            ]
          },
          "metadata": {
            "needs_background": "light"
          },
          "output_type": "display_data"
        }
      ],
      "source": [
        "Si.plot()"
      ]
    },
    {
      "cell_type": "code",
      "execution_count": 197,
      "metadata": {},
      "outputs": [
        {
          "name": "stdout",
          "output_type": "stream",
          "text": [
            "S1: [9.49998946e-02 8.95514661e-01 7.78008465e-04 0.00000000e+00\n",
            " 0.00000000e+00 0.00000000e+00 0.00000000e+00 0.00000000e+00\n",
            " 0.00000000e+00 0.00000000e+00 0.00000000e+00 0.00000000e+00\n",
            " 0.00000000e+00 0.00000000e+00 0.00000000e+00]\n",
            "x1-x2: -0.006480232647261386\n",
            "x1-x3: 0.0010737091488327733\n",
            "x2-x3: 0.0020852247605257102\n"
          ]
        },
        {
          "data": {
            "image/png": "[encoded data removed]",
            "text/plain": [
              "<Figure size 432x288 with 1 Axes>"
            ]
          },
          "metadata": {
            "needs_background": "light"
          },
          "output_type": "display_data"
        }
      ],
      "source": [
        "# 一阶灵敏度\n",
        "print('S1:', Si['S1']) \n",
        "\n",
        "# 二阶林敏度\n",
        "print(\"x1-x2:\", Si['S2'][0, 1])\n",
        "print(\"x1-x3:\", Si['S2'][0, 2])\n",
        "print(\"x2-x3:\", Si['S2'][1, 2])\n",
        "\n",
        "\"\"\"\n",
        "    置信区间: 对这个样本的某个总体参数的区间估计，置信区间展现的是这个参数的真实值有一定概率落在测量结果的周围的程度。\n",
        "             置信区间给出的是被测量参数的测量值的可信程度。一般常取为95%或者90%或者99%.是预先取定的值.\n",
        "             如:如果在一次大选中某人的支持率为55%，而置信水平0.95上的置信区间是（50%,60%），那么他的真实支持率有百分之九十五的机率落在百分之五十和百分之六十之间\n",
        "    显著性水平: 一个预先取定的值（一般取0.05/0.01）,一般用alpha表示.跟置信概率恰好方向相反（加起来是1）,在假设检验中表示在零假设成立下拒绝它所犯的一类错误的上界.在用p值检验时,\n",
        "              如果p值比显著性水平小,就可以放心拒绝原假设.反之,不拒绝.\n",
        "    置信度: 置信区间上下限的差值。\n",
        "\"\"\"\n",
        "from SALib.plotting.bar import plot as barplot\n",
        "import matplotlib.pyplot as plot\n",
        "\n",
        "Si_df = Si.to_df()\n",
        "barplot(Si_df[0])\n",
        "plot.savefig('./excel/result/2/analysis_x.png')\n",
        "plot.show()"
      ]
    }
  ],
  "metadata": {
    "kernelspec": {
      "display_name": "Python 3.7.9 ('base')",
      "language": "python",
      "name": "python3"
    },
    "language_info": {
      "codemirror_mode": {
        "name": "ipython",
        "version": 3
      },
      "file_extension": ".py",
      "mimetype": "text/x-python",
      "name": "python",
      "nbconvert_exporter": "python",
      "pygments_lexer": "ipython3",
      "version": "3.7.9"
    },
    "orig_nbformat": 4,
    "vscode": {
      "interpreter": {
        "hash": "2081760f1c3736c0f23b343f8717a57a2e7acf9e623fea9094d6936a46bdacf7"
      }
    }
  },
  "nbformat": 4,
  "nbformat_minor": 2
}
